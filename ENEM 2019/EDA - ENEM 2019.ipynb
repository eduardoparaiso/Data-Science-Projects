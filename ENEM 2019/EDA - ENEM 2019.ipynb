{
 "cells": [
  {
   "cell_type": "markdown",
   "metadata": {},
   "source": [
    "# Brazilian High School National Exam (ENEM 2019)\n",
    "The ENEM exam comprises of 180 multiple-choice questions and tests students in five main areas, namely natural sciences, math, human sciences, Portuguese and either English or Spanish as a foreign language. Students are also required to write an essay."
   ]
  },
  {
   "cell_type": "code",
   "execution_count": 21,
   "metadata": {},
   "outputs": [],
   "source": [
    "import pandas as pd\n",
    "import numpy as np\n",
    "import seaborn as sns\n",
    "import matplotlib.pyplot as plt"
   ]
  },
  {
   "cell_type": "code",
   "execution_count": 2,
   "metadata": {},
   "outputs": [],
   "source": [
    "#The information provided by the INEP is standardized, this EDA will be configured to adapt to any desired year.\n",
    "year= 2019\n",
    "minimum_wage= 998.00"
   ]
  },
  {
   "cell_type": "markdown",
   "metadata": {},
   "source": [
    "## Initial dataframe preparation"
   ]
  },
  {
   "cell_type": "code",
   "execution_count": 155,
   "metadata": {},
   "outputs": [],
   "source": [
    "#Due the big size of original dataset, only essential information that will be used on this EDA are recovered\n",
    "essentials= ['SG_UF_PROVA', 'SG_UF_RESIDENCIA', 'NO_MUNICIPIO_RESIDENCIA','NO_MUNICIPIO_PROVA','TP_SEXO', 'TP_COR_RACA', 'TP_ESCOLA', 'NU_NOTA_CN', 'NU_NOTA_CH', 'NU_NOTA_LC',\n",
    "    'NU_NOTA_MT', 'TP_LINGUA', 'NU_NOTA_COMP1', 'NU_NOTA_COMP2', 'NU_NOTA_COMP3', 'NU_NOTA_COMP4',\n",
    "    'NU_NOTA_COMP5', 'NU_NOTA_REDACAO', 'Q006', 'Q024', 'Q025']"
   ]
  },
  {
   "cell_type": "code",
   "execution_count": 156,
   "metadata": {},
   "outputs": [
    {
     "data": {
      "text/html": [
       "<div>\n",
       "<style scoped>\n",
       "    .dataframe tbody tr th:only-of-type {\n",
       "        vertical-align: middle;\n",
       "    }\n",
       "\n",
       "    .dataframe tbody tr th {\n",
       "        vertical-align: top;\n",
       "    }\n",
       "\n",
       "    .dataframe thead th {\n",
       "        text-align: right;\n",
       "    }\n",
       "</style>\n",
       "<table border=\"1\" class=\"dataframe\">\n",
       "  <thead>\n",
       "    <tr style=\"text-align: right;\">\n",
       "      <th></th>\n",
       "      <th>SG_UF_PROVA</th>\n",
       "      <th>SG_UF_RESIDENCIA</th>\n",
       "      <th>NO_MUNICIPIO_RESIDENCIA</th>\n",
       "      <th>NO_MUNICIPIO_PROVA</th>\n",
       "      <th>TP_SEXO</th>\n",
       "      <th>TP_COR_RACA</th>\n",
       "      <th>TP_ESCOLA</th>\n",
       "      <th>NU_NOTA_CN</th>\n",
       "      <th>NU_NOTA_CH</th>\n",
       "      <th>NU_NOTA_LC</th>\n",
       "      <th>...</th>\n",
       "      <th>TP_LINGUA</th>\n",
       "      <th>NU_NOTA_COMP1</th>\n",
       "      <th>NU_NOTA_COMP2</th>\n",
       "      <th>NU_NOTA_COMP3</th>\n",
       "      <th>NU_NOTA_COMP4</th>\n",
       "      <th>NU_NOTA_COMP5</th>\n",
       "      <th>NU_NOTA_REDACAO</th>\n",
       "      <th>Q006</th>\n",
       "      <th>Q024</th>\n",
       "      <th>Q025</th>\n",
       "    </tr>\n",
       "  </thead>\n",
       "  <tbody>\n",
       "    <tr>\n",
       "      <th>0</th>\n",
       "      <td>MA</td>\n",
       "      <td>MA</td>\n",
       "      <td>Paço do Lumiar</td>\n",
       "      <td>Paço do Lumiar</td>\n",
       "      <td>F</td>\n",
       "      <td>1</td>\n",
       "      <td>1</td>\n",
       "      <td>434.7</td>\n",
       "      <td>479.4</td>\n",
       "      <td>435.3</td>\n",
       "      <td>...</td>\n",
       "      <td>1</td>\n",
       "      <td>100.0</td>\n",
       "      <td>120.0</td>\n",
       "      <td>80.0</td>\n",
       "      <td>100.0</td>\n",
       "      <td>100.0</td>\n",
       "      <td>500.0</td>\n",
       "      <td>B</td>\n",
       "      <td>A</td>\n",
       "      <td>A</td>\n",
       "    </tr>\n",
       "    <tr>\n",
       "      <th>1</th>\n",
       "      <td>SP</td>\n",
       "      <td>SP</td>\n",
       "      <td>Orlândia</td>\n",
       "      <td>Orlândia</td>\n",
       "      <td>F</td>\n",
       "      <td>5</td>\n",
       "      <td>2</td>\n",
       "      <td>NaN</td>\n",
       "      <td>408.1</td>\n",
       "      <td>507.3</td>\n",
       "      <td>...</td>\n",
       "      <td>1</td>\n",
       "      <td>80.0</td>\n",
       "      <td>120.0</td>\n",
       "      <td>120.0</td>\n",
       "      <td>100.0</td>\n",
       "      <td>80.0</td>\n",
       "      <td>500.0</td>\n",
       "      <td>C</td>\n",
       "      <td>A</td>\n",
       "      <td>A</td>\n",
       "    </tr>\n",
       "  </tbody>\n",
       "</table>\n",
       "<p>2 rows × 21 columns</p>\n",
       "</div>"
      ],
      "text/plain": [
       "  SG_UF_PROVA SG_UF_RESIDENCIA NO_MUNICIPIO_RESIDENCIA NO_MUNICIPIO_PROVA  \\\n",
       "0          MA               MA          Paço do Lumiar     Paço do Lumiar   \n",
       "1          SP               SP                Orlândia           Orlândia   \n",
       "\n",
       "  TP_SEXO  TP_COR_RACA  TP_ESCOLA  NU_NOTA_CN  NU_NOTA_CH  NU_NOTA_LC  ...  \\\n",
       "0       F            1          1       434.7       479.4       435.3  ...   \n",
       "1       F            5          2         NaN       408.1       507.3  ...   \n",
       "\n",
       "   TP_LINGUA  NU_NOTA_COMP1  NU_NOTA_COMP2  NU_NOTA_COMP3  NU_NOTA_COMP4  \\\n",
       "0          1          100.0          120.0           80.0          100.0   \n",
       "1          1           80.0          120.0          120.0          100.0   \n",
       "\n",
       "   NU_NOTA_COMP5  NU_NOTA_REDACAO  Q006 Q024 Q025  \n",
       "0          100.0            500.0     B    A    A  \n",
       "1           80.0            500.0     C    A    A  \n",
       "\n",
       "[2 rows x 21 columns]"
      ]
     },
     "execution_count": 156,
     "metadata": {},
     "output_type": "execute_result"
    }
   ],
   "source": [
    "#Loading dataset\n",
    "df= pd.read_csv('input/AMOSTRA_ENEM_2019.csv', delimiter= ';', encoding= 'UTF-8')[essentials]\n",
    "df.head(2)"
   ]
  },
  {
   "cell_type": "code",
   "execution_count": 158,
   "metadata": {},
   "outputs": [],
   "source": [
    "columns_dictionary={\n",
    "    'SG_UF_PROVA': 'Application State',\n",
    "    'SG_UF_RESIDENCIA': 'Residence State',\n",
    "    'NO_MUNICIPIO_PROVA': 'Application Municipality',\n",
    "    'NO_MUNICIPIO_RESIDENCIA': 'Residence Municipality',\n",
    "    'TP_SEXO': 'Gender',\n",
    "    'TP_COR_RACA': 'Skincolor',\n",
    "    'TP_ESCOLA': 'School Kind',\n",
    "    'NU_NOTA_CN': 'Science Grade',\n",
    "    'NU_NOTA_CH': 'Humanist Grade',\n",
    "    'NU_NOTA_LC': 'Linguistic Grade',\n",
    "    'NU_NOTA_MT': 'Math Grade',\n",
    "    'TP_LINGUA': 'Foreign Languange',\n",
    "    'NU_NOTA_COMP1': 'Essay Comp I',\n",
    "    'NU_NOTA_COMP2': 'Essay Comp II',\n",
    "    'NU_NOTA_COMP3': 'Essay Comp III', \n",
    "    'NU_NOTA_COMP4': 'Essay Comp IV', \n",
    "    'NU_NOTA_COMP5': 'Essay Comp V', \n",
    "    #More information about essay competences go to: https://bit.ly/3hHUhLx\n",
    "    'NU_NOTA_REDACAO': 'Essay Grade',\n",
    "    'Q006': 'Family Income',  \n",
    "    'Q024': 'Computer in Home', \n",
    "    'Q025': 'Internet Acess',\n",
    "}\n",
    "\n",
    "skinColor_dictionary= {\n",
    "    0:np.nan, #Undeclared\n",
    "    1:'White',\n",
    "    2:'Black',\n",
    "    3:'Brown',\n",
    "    4:'Yellow',\n",
    "    5:'Indigenous'\n",
    "}\n",
    "\n",
    "school_dictionary= {\n",
    "    1:np.nan, #Undeclared\n",
    "    2:'Public',\n",
    "    3:'Private',\n",
    "}\n",
    "\n",
    "income_dictionary={\n",
    "    'A': 0,\n",
    "    'B': f'Up to R${minimum_wage}',\n",
    "    'C': f'R${minimum_wage+ 0.01} - R${1.5* minimum_wage}',\n",
    "    'D': f'R${1.5*minimum_wage+ 0.01} - R${2* minimum_wage}',\n",
    "    'E': f'R${2*minimum_wage+ 0.01} - R${2.5* minimum_wage}',\n",
    "    'F': f'R${2.5*minimum_wage+ 0.01} - R${3* minimum_wage}',\n",
    "    'G': f'R${3*minimum_wage+ 0.01} - R${4* minimum_wage}',\n",
    "    'H': f'R${4*minimum_wage+ 0.01} - R${5* minimum_wage}',\n",
    "    'I': f'R${5*minimum_wage+ 0.01} - R${6* minimum_wage}',\n",
    "    'J': f'R${6*minimum_wage+ 0.01} - R${7* minimum_wage}',\n",
    "    'K': f'R${7*minimum_wage+ 0.01} - R${8* minimum_wage}',\n",
    "    'L': f'R${8*minimum_wage+ 0.01} - R${9* minimum_wage}',\n",
    "    'M': f'R${9*minimum_wage+ 0.01} - R${10* minimum_wage}',\n",
    "    'N': f'R${10*minimum_wage+ 0.01} - R${12* minimum_wage}',\n",
    "    'O': f'R${12*minimum_wage+ 0.01} - R${15* minimum_wage}',\n",
    "    'P': f'R${15*minimum_wage+ 0.01} - R${20* minimum_wage}',\n",
    "    'Q': f'Above to R${20* minimum_wage}',\n",
    "}\n",
    "\n",
    "languange_dictionary= {\n",
    "    0: 'English',\n",
    "    1: 'Spanish',\n",
    "}\n",
    "\n",
    "gender_dictionary= {\n",
    "    'F': 'Female',\n",
    "    'M': 'Male'\n",
    "}\n",
    "\n",
    "computer_dictionary= {\n",
    "    'A': 'None',\n",
    "    'B': 'One',\n",
    "    'C': 'Two',\n",
    "    'D': 'Three',\n",
    "    'E': 'Four or more',\n",
    "}\n",
    "\n",
    "internet_dictionary= {\n",
    "    'A': 'No',\n",
    "    'B': 'Yes',\n",
    "}"
   ]
  },
  {
   "cell_type": "code",
   "execution_count": 159,
   "metadata": {},
   "outputs": [],
   "source": [
    "#Mapping dataframe\n",
    "df.rename(columns= columns_dictionary, inplace= True)\n",
    "df['Gender']= df['Gender'].map(gender_dictionary)\n",
    "df['Skincolor']= df['Skincolor'].map(skinColor_dictionary)\n",
    "df['School Kind']= df['School Kind'].map(school_dictionary)\n",
    "df['Foreign Languange']= df['Foreign Languange'].map(languange_dictionary)\n",
    "df['Family Income']= df['Family Income'].map(income_dictionary)\n",
    "df['Computer in Home']= df['Computer in Home'].map(computer_dictionary)\n",
    "df['Internet Acess']= df['Internet Acess'].map(internet_dictionary)"
   ]
  },
  {
   "cell_type": "code",
   "execution_count": 160,
   "metadata": {},
   "outputs": [
    {
     "data": {
      "text/html": [
       "<div>\n",
       "<style scoped>\n",
       "    .dataframe tbody tr th:only-of-type {\n",
       "        vertical-align: middle;\n",
       "    }\n",
       "\n",
       "    .dataframe tbody tr th {\n",
       "        vertical-align: top;\n",
       "    }\n",
       "\n",
       "    .dataframe thead th {\n",
       "        text-align: right;\n",
       "    }\n",
       "</style>\n",
       "<table border=\"1\" class=\"dataframe\">\n",
       "  <thead>\n",
       "    <tr style=\"text-align: right;\">\n",
       "      <th></th>\n",
       "      <th>Application State</th>\n",
       "      <th>Residence State</th>\n",
       "      <th>Residence Municipality</th>\n",
       "      <th>Application Municipality</th>\n",
       "      <th>Gender</th>\n",
       "      <th>Skincolor</th>\n",
       "      <th>School Kind</th>\n",
       "      <th>Science Grade</th>\n",
       "      <th>Humanist Grade</th>\n",
       "      <th>Linguistic Grade</th>\n",
       "      <th>...</th>\n",
       "      <th>Foreign Languange</th>\n",
       "      <th>Essay Comp I</th>\n",
       "      <th>Essay Comp II</th>\n",
       "      <th>Essay Comp III</th>\n",
       "      <th>Essay Comp IV</th>\n",
       "      <th>Essay Comp V</th>\n",
       "      <th>Essay Grade</th>\n",
       "      <th>Family Income</th>\n",
       "      <th>Computer in Home</th>\n",
       "      <th>Internet Acess</th>\n",
       "    </tr>\n",
       "  </thead>\n",
       "  <tbody>\n",
       "    <tr>\n",
       "      <th>0</th>\n",
       "      <td>MA</td>\n",
       "      <td>MA</td>\n",
       "      <td>Paço do Lumiar</td>\n",
       "      <td>Paço do Lumiar</td>\n",
       "      <td>Female</td>\n",
       "      <td>White</td>\n",
       "      <td>NaN</td>\n",
       "      <td>434.7</td>\n",
       "      <td>479.4</td>\n",
       "      <td>435.3</td>\n",
       "      <td>...</td>\n",
       "      <td>Spanish</td>\n",
       "      <td>100.0</td>\n",
       "      <td>120.0</td>\n",
       "      <td>80.0</td>\n",
       "      <td>100.0</td>\n",
       "      <td>100.0</td>\n",
       "      <td>500.0</td>\n",
       "      <td>Up to R$998.0</td>\n",
       "      <td>None</td>\n",
       "      <td>No</td>\n",
       "    </tr>\n",
       "    <tr>\n",
       "      <th>1</th>\n",
       "      <td>SP</td>\n",
       "      <td>SP</td>\n",
       "      <td>Orlândia</td>\n",
       "      <td>Orlândia</td>\n",
       "      <td>Female</td>\n",
       "      <td>Indigenous</td>\n",
       "      <td>Public</td>\n",
       "      <td>NaN</td>\n",
       "      <td>408.1</td>\n",
       "      <td>507.3</td>\n",
       "      <td>...</td>\n",
       "      <td>Spanish</td>\n",
       "      <td>80.0</td>\n",
       "      <td>120.0</td>\n",
       "      <td>120.0</td>\n",
       "      <td>100.0</td>\n",
       "      <td>80.0</td>\n",
       "      <td>500.0</td>\n",
       "      <td>R$998.01 - R$1497.0</td>\n",
       "      <td>None</td>\n",
       "      <td>No</td>\n",
       "    </tr>\n",
       "    <tr>\n",
       "      <th>2</th>\n",
       "      <td>SP</td>\n",
       "      <td>SP</td>\n",
       "      <td>Sertãozinho</td>\n",
       "      <td>Sertãozinho</td>\n",
       "      <td>Male</td>\n",
       "      <td>White</td>\n",
       "      <td>Public</td>\n",
       "      <td>NaN</td>\n",
       "      <td>NaN</td>\n",
       "      <td>NaN</td>\n",
       "      <td>...</td>\n",
       "      <td>English</td>\n",
       "      <td>NaN</td>\n",
       "      <td>NaN</td>\n",
       "      <td>NaN</td>\n",
       "      <td>NaN</td>\n",
       "      <td>NaN</td>\n",
       "      <td>NaN</td>\n",
       "      <td>R$2994.01 - R$3992.0</td>\n",
       "      <td>One</td>\n",
       "      <td>Yes</td>\n",
       "    </tr>\n",
       "    <tr>\n",
       "      <th>3</th>\n",
       "      <td>AL</td>\n",
       "      <td>AL</td>\n",
       "      <td>Santana do Ipanema</td>\n",
       "      <td>Santana do Ipanema</td>\n",
       "      <td>Male</td>\n",
       "      <td>Brown</td>\n",
       "      <td>NaN</td>\n",
       "      <td>363.6</td>\n",
       "      <td>471.2</td>\n",
       "      <td>516.2</td>\n",
       "      <td>...</td>\n",
       "      <td>Spanish</td>\n",
       "      <td>140.0</td>\n",
       "      <td>120.0</td>\n",
       "      <td>100.0</td>\n",
       "      <td>100.0</td>\n",
       "      <td>100.0</td>\n",
       "      <td>560.0</td>\n",
       "      <td>Up to R$998.0</td>\n",
       "      <td>One</td>\n",
       "      <td>No</td>\n",
       "    </tr>\n",
       "    <tr>\n",
       "      <th>4</th>\n",
       "      <td>DF</td>\n",
       "      <td>DF</td>\n",
       "      <td>Brasília</td>\n",
       "      <td>Brasília</td>\n",
       "      <td>Male</td>\n",
       "      <td>Brown</td>\n",
       "      <td>NaN</td>\n",
       "      <td>681.1</td>\n",
       "      <td>673.2</td>\n",
       "      <td>622.2</td>\n",
       "      <td>...</td>\n",
       "      <td>English</td>\n",
       "      <td>160.0</td>\n",
       "      <td>140.0</td>\n",
       "      <td>140.0</td>\n",
       "      <td>160.0</td>\n",
       "      <td>140.0</td>\n",
       "      <td>740.0</td>\n",
       "      <td>R$11976.01 - R$14970.0</td>\n",
       "      <td>Two</td>\n",
       "      <td>Yes</td>\n",
       "    </tr>\n",
       "  </tbody>\n",
       "</table>\n",
       "<p>5 rows × 21 columns</p>\n",
       "</div>"
      ],
      "text/plain": [
       "  Application State Residence State Residence Municipality  \\\n",
       "0                MA              MA         Paço do Lumiar   \n",
       "1                SP              SP               Orlândia   \n",
       "2                SP              SP            Sertãozinho   \n",
       "3                AL              AL     Santana do Ipanema   \n",
       "4                DF              DF               Brasília   \n",
       "\n",
       "  Application Municipality  Gender   Skincolor School Kind  Science Grade  \\\n",
       "0           Paço do Lumiar  Female       White         NaN          434.7   \n",
       "1                 Orlândia  Female  Indigenous      Public            NaN   \n",
       "2              Sertãozinho    Male       White      Public            NaN   \n",
       "3       Santana do Ipanema    Male       Brown         NaN          363.6   \n",
       "4                 Brasília    Male       Brown         NaN          681.1   \n",
       "\n",
       "   Humanist Grade  Linguistic Grade  ...  Foreign Languange Essay Comp I  \\\n",
       "0           479.4             435.3  ...            Spanish        100.0   \n",
       "1           408.1             507.3  ...            Spanish         80.0   \n",
       "2             NaN               NaN  ...            English          NaN   \n",
       "3           471.2             516.2  ...            Spanish        140.0   \n",
       "4           673.2             622.2  ...            English        160.0   \n",
       "\n",
       "   Essay Comp II  Essay Comp III  Essay Comp IV  Essay Comp V  Essay Grade  \\\n",
       "0          120.0            80.0          100.0         100.0        500.0   \n",
       "1          120.0           120.0          100.0          80.0        500.0   \n",
       "2            NaN             NaN            NaN           NaN          NaN   \n",
       "3          120.0           100.0          100.0         100.0        560.0   \n",
       "4          140.0           140.0          160.0         140.0        740.0   \n",
       "\n",
       "            Family Income Computer in Home Internet Acess  \n",
       "0           Up to R$998.0             None             No  \n",
       "1     R$998.01 - R$1497.0             None             No  \n",
       "2    R$2994.01 - R$3992.0              One            Yes  \n",
       "3           Up to R$998.0              One             No  \n",
       "4  R$11976.01 - R$14970.0              Two            Yes  \n",
       "\n",
       "[5 rows x 21 columns]"
      ]
     },
     "execution_count": 160,
     "metadata": {},
     "output_type": "execute_result"
    }
   ],
   "source": [
    "df.head()"
   ]
  },
  {
   "cell_type": "markdown",
   "metadata": {},
   "source": [
    "## Dataframe basic informations"
   ]
  },
  {
   "cell_type": "code",
   "execution_count": 161,
   "metadata": {},
   "outputs": [
    {
     "name": "stdout",
     "output_type": "stream",
     "text": [
      "<class 'pandas.core.frame.DataFrame'>\n",
      "RangeIndex: 127382 entries, 0 to 127381\n",
      "Data columns (total 21 columns):\n",
      " #   Column                    Non-Null Count   Dtype  \n",
      "---  ------                    --------------   -----  \n",
      " 0   Application State         127382 non-null  object \n",
      " 1   Residence State           127382 non-null  object \n",
      " 2   Residence Municipality    127382 non-null  object \n",
      " 3   Application Municipality  127382 non-null  object \n",
      " 4   Gender                    127382 non-null  object \n",
      " 5   Skincolor                 124694 non-null  object \n",
      " 6   School Kind               36796 non-null   object \n",
      " 7   Science Grade             92698 non-null   float64\n",
      " 8   Humanist Grade            98007 non-null   float64\n",
      " 9   Linguistic Grade          98007 non-null   float64\n",
      " 10  Math Grade                92698 non-null   float64\n",
      " 11  Foreign Languange         127382 non-null  object \n",
      " 12  Essay Comp I              98007 non-null   float64\n",
      " 13  Essay Comp II             98007 non-null   float64\n",
      " 14  Essay Comp III            98007 non-null   float64\n",
      " 15  Essay Comp IV             98007 non-null   float64\n",
      " 16  Essay Comp V              98007 non-null   float64\n",
      " 17  Essay Grade               98007 non-null   float64\n",
      " 18  Family Income             127382 non-null  object \n",
      " 19  Computer in Home          127382 non-null  object \n",
      " 20  Internet Acess            127382 non-null  object \n",
      "dtypes: float64(10), object(11)\n",
      "memory usage: 94.0 MB\n"
     ]
    }
   ],
   "source": [
    "df.info(memory_usage= 'deep')"
   ]
  },
  {
   "cell_type": "code",
   "execution_count": 162,
   "metadata": {},
   "outputs": [
    {
     "name": "stdout",
     "output_type": "stream",
     "text": [
      "Sum of null data. Purposely undeclared data was considered null.\n",
      "Null grades correspond to candidates who did not take the test due to no-show or elimination\n"
     ]
    },
    {
     "data": {
      "text/plain": [
       "Application State               0\n",
       "Residence State                 0\n",
       "Residence Municipality          0\n",
       "Application Municipality        0\n",
       "Gender                          0\n",
       "Skincolor                    2688\n",
       "School Kind                 90586\n",
       "Science Grade               34684\n",
       "Humanist Grade              29375\n",
       "Linguistic Grade            29375\n",
       "Math Grade                  34684\n",
       "Foreign Languange               0\n",
       "Essay Comp I                29375\n",
       "Essay Comp II               29375\n",
       "Essay Comp III              29375\n",
       "Essay Comp IV               29375\n",
       "Essay Comp V                29375\n",
       "Essay Grade                 29375\n",
       "Family Income                   0\n",
       "Computer in Home                0\n",
       "Internet Acess                  0\n",
       "dtype: int64"
      ]
     },
     "execution_count": 162,
     "metadata": {},
     "output_type": "execute_result"
    }
   ],
   "source": [
    "print('Sum of null data. Purposely undeclared data was considered null.')\n",
    "print('Null grades correspond to candidates who did not take the test due to no-show or elimination')\n",
    "df.isna().sum()"
   ]
  },
  {
   "cell_type": "markdown",
   "metadata": {},
   "source": [
    "## Analysis\n",
    "### Geographical"
   ]
  },
  {
   "cell_type": "code",
   "execution_count": 163,
   "metadata": {},
   "outputs": [],
   "source": [
    "candidates= df.shape[0]\n",
    "application_municipalities= len(df['Application Municipality'].unique())\n",
    "residence_municipalities= len(df['Residence Municipality'].unique())\n",
    "application_state= len(df['Application State'].unique())\n",
    "residence_state= len(df['Residence State'].unique())"
   ]
  },
  {
   "cell_type": "code",
   "execution_count": 166,
   "metadata": {},
   "outputs": [
    {
     "name": "stdout",
     "output_type": "stream",
     "text": [
      "127382 candidates from 4909 municipalities in 27 states were registered for ENEM 2019.\n"
     ]
    }
   ],
   "source": [
    "print(f'{candidates} candidates from {residence_municipalities} municipalities in {residence_state} states were registered for ENEM {year}.')"
   ]
  },
  {
   "cell_type": "markdown",
   "metadata": {},
   "source": [
    "The Brazilian territory is divided into 27 federative units, consisting of 26 states, plus the Federal District. According to the Brazilian Institute of Geography and Statistics (IBGE), Brazil has 5570 cities. \n",
    "This number is referred to in the last 2010 Census.\n",
    "\n",
    "More informations: https://bit.ly/30UP8sO"
   ]
  },
  {
   "cell_type": "code",
   "execution_count": 170,
   "metadata": {},
   "outputs": [
    {
     "name": "stdout",
     "output_type": "stream",
     "text": [
      "Therefore, the national exam in 2019 was conducted in 30.0% of Brazilian municipalities, with candidates from 88.0% from all over Brazil.\n"
     ]
    }
   ],
   "source": [
    "print(f'Therefore, the national exam in {year} was conducted in {round(application_municipalities/5570, 2)*100}% of Brazilian municipalities, with candidates from {round(residence_municipalities/5570, 2)*100}% from all over Brazil.')"
   ]
  },
  {
   "cell_type": "code",
   "execution_count": 171,
   "metadata": {},
   "outputs": [
    {
     "name": "stdout",
     "output_type": "stream",
     "text": [
      "Number of mubicipalities per brazilians regions\n"
     ]
    },
    {
     "data": {
      "text/html": [
       "<div>\n",
       "<style scoped>\n",
       "    .dataframe tbody tr th:only-of-type {\n",
       "        vertical-align: middle;\n",
       "    }\n",
       "\n",
       "    .dataframe tbody tr th {\n",
       "        vertical-align: top;\n",
       "    }\n",
       "\n",
       "    .dataframe thead th {\n",
       "        text-align: right;\n",
       "    }\n",
       "</style>\n",
       "<table border=\"1\" class=\"dataframe\">\n",
       "  <thead>\n",
       "    <tr style=\"text-align: right;\">\n",
       "      <th></th>\n",
       "      <th>Region</th>\n",
       "      <th>Municipalities</th>\n",
       "    </tr>\n",
       "  </thead>\n",
       "  <tbody>\n",
       "    <tr>\n",
       "      <th>0</th>\n",
       "      <td>Northeast</td>\n",
       "      <td>1794</td>\n",
       "    </tr>\n",
       "    <tr>\n",
       "      <th>1</th>\n",
       "      <td>Southeast</td>\n",
       "      <td>1668</td>\n",
       "    </tr>\n",
       "    <tr>\n",
       "      <th>2</th>\n",
       "      <td>South</td>\n",
       "      <td>1191</td>\n",
       "    </tr>\n",
       "    <tr>\n",
       "      <th>3</th>\n",
       "      <td>Midwest</td>\n",
       "      <td>466</td>\n",
       "    </tr>\n",
       "    <tr>\n",
       "      <th>4</th>\n",
       "      <td>North</td>\n",
       "      <td>450</td>\n",
       "    </tr>\n",
       "  </tbody>\n",
       "</table>\n",
       "</div>"
      ],
      "text/plain": [
       "      Region  Municipalities\n",
       "0  Northeast            1794\n",
       "1  Southeast            1668\n",
       "2      South            1191\n",
       "3    Midwest             466\n",
       "4      North             450"
      ]
     },
     "execution_count": 171,
     "metadata": {},
     "output_type": "execute_result"
    }
   ],
   "source": [
    "#Loading external data about the number of cities or town per brazilian regions\n",
    "url='https://bit.ly/2X4VK6y'\n",
    "print('Number of mubicipalities per brazilians regions')\n",
    "regions= pd.read_html(url, thousands='.', encoding= 'UTF-8')[1][['Região','Municípios', ]].rename(columns= {'Região':'Region','Municípios':'Municipalities'})\n",
    "regions_dictionary= {\n",
    "    'Nordeste':'Northeast',\n",
    "    'Norte':'North',\n",
    "    'Centro-Oeste':'Midwest',\n",
    "    'Sudeste':'Southeast',\n",
    "    'Sul': 'South'\n",
    "}\n",
    "regions['Region']= regions['Region'].map(regions_dictionary)\n",
    "regions"
   ]
  },
  {
   "cell_type": "code",
   "execution_count": 178,
   "metadata": {},
   "outputs": [],
   "source": [
    "#Counting the number of municipalities where the exam occured\n",
    "SE_application= (df['Application State'] == 'ES') | (df['Application State'] == 'MG') | (df['Application State'] == 'RJ') | (df['Application State'] == 'SP')\n",
    "SE_application= len(df[SE_application]['Application Municipality'].unique())\n",
    "\n",
    "NE_application= (df['Application State'] == 'BA') | (df['Application State'] == 'SE') | (df['Application State'] == 'AL') | (df['Application State'] == 'PE') | (df['Application State'] == 'PB') | (df['Application State'] == 'RN') | (df['Application State'] == 'CE') | (df['Application State'] == 'MA') | (df['Application State'] == 'PI')\n",
    "NE_application= len(df[NE_application]['Application Municipality'].unique())\n",
    "\n",
    "S_application= (df['Application State'] == 'PR') | (df['Application State'] == 'RS') | (df['Application State'] == 'SC')\n",
    "S_application= len(df[S_application]['Application Municipality'].unique())\n",
    "\n",
    "NW_application= (df['Application State'] == 'GO') | (df['Application State'] == 'MS') | (df['Application State'] == 'MT')\n",
    "NW_application= len(df[NW_application]['Application Municipality'].unique())\n",
    "\n",
    "N_application= (df['Application State'] == 'AC') | (df['Application State'] == 'AM') | (df['Application State'] == 'RO') | (df['Application State'] == 'RR') | (df['Application State'] == 'AP') | (df['Application State'] == 'PA') | (df['Application State'] == 'TO')\n",
    "N_application= len(df[N_application]['Application Municipality'].unique())"
   ]
  },
  {
   "cell_type": "code",
   "execution_count": 182,
   "metadata": {},
   "outputs": [],
   "source": [
    "#Counting the number of municipalities where the candidates reside\n",
    "SE_residence= (df['Residence State'] == 'ES') | (df['Residence State'] == 'MG') | (df['Residence State'] == 'RJ') | (df['Residence State'] == 'SP')\n",
    "SE_residence= len(df[SE_residence]['Residence Municipality'].unique())\n",
    "\n",
    "NE_residence= (df['Residence State'] == 'BA') | (df['Residence State'] == 'SE') | (df['Residence State'] == 'AL') | (df['Residence State'] == 'PE') | (df['Residence State'] == 'PB') | (df['Residence State'] == 'RN') | (df['Residence State'] == 'CE') | (df['Residence State'] == 'MA') | (df['Residence State'] == 'PI')\n",
    "NE_residence= len(df[NE_residence]['Residence Municipality'].unique())\n",
    "\n",
    "S_residence= (df['Residence State'] == 'PR') | (df['Residence State'] == 'RS') | (df['Residence State'] == 'SC')\n",
    "S_residence= len(df[S_residence]['Residence Municipality'].unique())\n",
    "\n",
    "NW_residence= (df['Residence State'] == 'GO') | (df['Residence State'] == 'MS') | (df['Residence State'] == 'MT')\n",
    "NW_residence= len(df[NW_residence]['Residence Municipality'].unique())\n",
    "\n",
    "N_residence= (df['Residence State'] == 'AC') | (df['Residence State'] == 'AM') | (df['Residence State'] == 'RO') | (df['Residence State'] == 'RR') | (df['Residence State'] == 'AP') | (df['Residence State'] == 'PA') | (df['Residence State'] == 'TO')\n",
    "N_residence= len(df[N_residence]['Residence Municipality'].unique())"
   ]
  },
  {
   "cell_type": "code",
   "execution_count": 183,
   "metadata": {},
   "outputs": [
    {
     "data": {
      "image/png": "[encoded data removed]",
      "text/plain": [
       "<Figure size 864x432 with 1 Axes>"
      ]
     },
     "metadata": {},
     "output_type": "display_data"
    }
   ],
   "source": [
    "ax = plt.subplots(figsize=(12, 6))\n",
    "sns.set_color_codes('pastel')\n",
    "sns.barplot(x= 'Municipalities', y= 'Region', data= regions, label= 'Total', color= 'b')\n",
    "sns.set_color_codes('muted')\n",
    "sns.barplot(x= [NE_application, SE_application, S_application, NW_application, N_application], y= 'Region', data= regions, label= 'Applied ENEM', color= 'b')\n",
    "sns.despine(left=True, bottom=True)"
   ]
  },
  {
   "cell_type": "code",
   "execution_count": 185,
   "metadata": {},
   "outputs": [
    {
     "data": {
      "image/png": "[encoded data removed]",
      "text/plain": [
       "<Figure size 864x432 with 1 Axes>"
      ]
     },
     "metadata": {},
     "output_type": "display_data"
    }
   ],
   "source": [
    "ax = plt.subplots(figsize=(12, 6))\n",
    "sns.set_color_codes('pastel')\n",
    "sns.barplot(x= 'Municipalities', y= 'Region', data= regions, label= 'Total', color= 'y')\n",
    "sns.set_color_codes('muted')\n",
    "sns.barplot(x= [NE_residence, SE_residence, S_residence, NW_residence, N_residence], y= 'Region', data= regions, label= 'Applied ENEM', color= 'y')\n",
    "sns.despine(left=True, bottom=True)"
   ]
  },
  {
   "cell_type": "code",
   "execution_count": 196,
   "metadata": {},
   "outputs": [
    {
     "name": "stdout",
     "output_type": "stream",
     "text": [
      "In northeast region, the ENEM exam was applied in 30.0% of the municipalities with representatives of 90.0% the state.\n",
      "In southeast region, the ENEM exam was applied in 30.0% of the municipalities with representatives of 90.0% the state.\n",
      "In south region, the ENEM exam was applied in 20.0% of the municipalities with representatives of 60.0% the state.\n",
      "In midwest region, the ENEM exam was applied in 30.0% of the municipalities with representatives of 20.0% the state.\n",
      "In north region, the ENEM exam was applied in 50.0% of the municipalities with representatives of 20.0% the state.\n"
     ]
    }
   ],
   "source": [
    "print(f'In northeast region, the ENEM exam was applied in {round(NE_application/regions.Municipalities[0], 1)*100}% of the municipalities with representatives of {round(NE_residence/regions.Municipalities[0], 1)*100}% the state.')\n",
    "print(f'In southeast region, the ENEM exam was applied in {round(SE_application/regions.Municipalities[1], 1)*100}% of the municipalities with representatives of {round(SE_residence/regions.Municipalities[0], 1)*100}% the state.')\n",
    "print(f'In south region, the ENEM exam was applied in {round(S_application/regions.Municipalities[2], 1)*100}% of the municipalities with representatives of {round(S_residence/regions.Municipalities[0], 1)*100}% the state.')\n",
    "print(f'In midwest region, the ENEM exam was applied in {round(NW_application/regions.Municipalities[3], 1)*100}% of the municipalities with representatives of {round(NW_residence/regions.Municipalities[0], 1)*100}% the state.')\n",
    "print(f'In north region, the ENEM exam was applied in {round(N_application/regions.Municipalities[4], 1)*100}% of the municipalities with representatives of {round(N_residence/regions.Municipalities[0], 1)*100}% the state.')"
   ]
  },
  {
   "cell_type": "code",
   "execution_count": 198,
   "metadata": {},
   "outputs": [
    {
     "name": "stdout",
     "output_type": "stream",
     "text": [
      "17.0% of candidates chosen a diferent municipality from their residence.\n",
      "1.0% of candidates chosen a diferent state from their residence.\n"
     ]
    }
   ],
   "source": [
    "diff_municipality= len(df[df['Application Municipality'] != df['Residence Municipality']])\n",
    "diff_state= len(df[df['Application State'] != df['Residence State']])\n",
    "\n",
    "print(f'{round(diff_municipality/candidates, 2)*100}% of candidates chosen a diferent municipality from their residence.')\n",
    "print(f'{round(diff_state/candidates, 2)*100}% of candidates chosen a diferent state from their residence.')"
   ]
  },
  {
   "cell_type": "markdown",
   "metadata": {},
   "source": [
    "### Grades"
   ]
  },
  {
   "cell_type": "code",
   "execution_count": null,
   "metadata": {},
   "outputs": [],
   "source": []
  }
 ],
 "metadata": {
  "kernelspec": {
   "display_name": "Python 3",
   "language": "python",
   "name": "python3"
  },
  "language_info": {
   "codemirror_mode": {
    "name": "ipython",
    "version": 3
   },
   "file_extension": ".py",
   "mimetype": "text/x-python",
   "name": "python",
   "nbconvert_exporter": "python",
   "pygments_lexer": "ipython3",
   "version": "3.7.7"
  }
 },
 "nbformat": 4,
 "nbformat_minor": 4
}
