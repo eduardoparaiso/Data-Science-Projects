{
 "cells": [
  {
   "cell_type": "code",
   "execution_count": 157,
   "metadata": {
    "ExecuteTime": {
     "end_time": "2020-12-10T16:18:27.383272Z",
     "start_time": "2020-12-10T16:18:27.364267Z"
    }
   },
   "outputs": [],
   "source": [
    "import pandas as pd\n",
    "df = pd.read_csv('inputs/shootings.csv')"
   ]
  },
  {
   "cell_type": "code",
   "execution_count": 158,
   "metadata": {
    "ExecuteTime": {
     "end_time": "2020-12-10T16:18:27.730881Z",
     "start_time": "2020-12-10T16:18:27.713892Z"
    }
   },
   "outputs": [
    {
     "data": {
      "text/html": [
       "<div>\n",
       "<style scoped>\n",
       "    .dataframe tbody tr th:only-of-type {\n",
       "        vertical-align: middle;\n",
       "    }\n",
       "\n",
       "    .dataframe tbody tr th {\n",
       "        vertical-align: top;\n",
       "    }\n",
       "\n",
       "    .dataframe thead th {\n",
       "        text-align: right;\n",
       "    }\n",
       "</style>\n",
       "<table border=\"1\" class=\"dataframe\">\n",
       "  <thead>\n",
       "    <tr style=\"text-align: right;\">\n",
       "      <th></th>\n",
       "      <th>id</th>\n",
       "      <th>name</th>\n",
       "      <th>date</th>\n",
       "      <th>manner_of_death</th>\n",
       "      <th>armed</th>\n",
       "      <th>age</th>\n",
       "      <th>gender</th>\n",
       "      <th>race</th>\n",
       "      <th>city</th>\n",
       "      <th>state</th>\n",
       "      <th>signs_of_mental_illness</th>\n",
       "      <th>threat_level</th>\n",
       "      <th>flee</th>\n",
       "      <th>body_camera</th>\n",
       "      <th>arms_category</th>\n",
       "    </tr>\n",
       "  </thead>\n",
       "  <tbody>\n",
       "    <tr>\n",
       "      <th>1621</th>\n",
       "      <td>1876</td>\n",
       "      <td>Travis Ell</td>\n",
       "      <td>2016-09-09</td>\n",
       "      <td>shot</td>\n",
       "      <td>unknown</td>\n",
       "      <td>64.0</td>\n",
       "      <td>M</td>\n",
       "      <td>White</td>\n",
       "      <td>Auburn</td>\n",
       "      <td>WA</td>\n",
       "      <td>True</td>\n",
       "      <td>other</td>\n",
       "      <td>Not fleeing</td>\n",
       "      <td>False</td>\n",
       "      <td>Unknown</td>\n",
       "    </tr>\n",
       "    <tr>\n",
       "      <th>2008</th>\n",
       "      <td>2337</td>\n",
       "      <td>Raynard Burton</td>\n",
       "      <td>2017-02-13</td>\n",
       "      <td>shot</td>\n",
       "      <td>unarmed</td>\n",
       "      <td>19.0</td>\n",
       "      <td>M</td>\n",
       "      <td>Black</td>\n",
       "      <td>Detroit</td>\n",
       "      <td>MI</td>\n",
       "      <td>False</td>\n",
       "      <td>attack</td>\n",
       "      <td>Other</td>\n",
       "      <td>False</td>\n",
       "      <td>Unarmed</td>\n",
       "    </tr>\n",
       "    <tr>\n",
       "      <th>3518</th>\n",
       "      <td>4123</td>\n",
       "      <td>William David Williamson</td>\n",
       "      <td>2018-10-22</td>\n",
       "      <td>shot</td>\n",
       "      <td>unknown</td>\n",
       "      <td>61.0</td>\n",
       "      <td>M</td>\n",
       "      <td>White</td>\n",
       "      <td>Newport</td>\n",
       "      <td>TN</td>\n",
       "      <td>False</td>\n",
       "      <td>attack</td>\n",
       "      <td>Not fleeing</td>\n",
       "      <td>False</td>\n",
       "      <td>Unknown</td>\n",
       "    </tr>\n",
       "  </tbody>\n",
       "</table>\n",
       "</div>"
      ],
      "text/plain": [
       "        id                      name        date manner_of_death    armed  \\\n",
       "1621  1876                Travis Ell  2016-09-09            shot  unknown   \n",
       "2008  2337            Raynard Burton  2017-02-13            shot  unarmed   \n",
       "3518  4123  William David Williamson  2018-10-22            shot  unknown   \n",
       "\n",
       "       age gender   race     city state  signs_of_mental_illness threat_level  \\\n",
       "1621  64.0      M  White   Auburn    WA                     True        other   \n",
       "2008  19.0      M  Black  Detroit    MI                    False       attack   \n",
       "3518  61.0      M  White  Newport    TN                    False       attack   \n",
       "\n",
       "             flee  body_camera arms_category  \n",
       "1621  Not fleeing        False       Unknown  \n",
       "2008        Other        False       Unarmed  \n",
       "3518  Not fleeing        False       Unknown  "
      ]
     },
     "execution_count": 158,
     "metadata": {},
     "output_type": "execute_result"
    }
   ],
   "source": [
    "df.sample(3)"
   ]
  },
  {
   "cell_type": "code",
   "execution_count": 159,
   "metadata": {
    "ExecuteTime": {
     "end_time": "2020-12-10T16:18:27.952714Z",
     "start_time": "2020-12-10T16:18:27.945747Z"
    }
   },
   "outputs": [],
   "source": [
    "df.drop(['id', 'name', 'date', 'manner_of_death', 'arms_category', 'city'], axis = 1, inplace= True)"
   ]
  },
  {
   "cell_type": "code",
   "execution_count": 160,
   "metadata": {
    "ExecuteTime": {
     "end_time": "2020-12-10T16:18:28.123642Z",
     "start_time": "2020-12-10T16:18:28.117645Z"
    }
   },
   "outputs": [
    {
     "data": {
      "text/plain": [
       "array(['attack', 'other', 'undetermined'], dtype=object)"
      ]
     },
     "execution_count": 160,
     "metadata": {},
     "output_type": "execute_result"
    }
   ],
   "source": [
    "df['threat_level'].unique()"
   ]
  },
  {
   "cell_type": "code",
   "execution_count": 161,
   "metadata": {
    "ExecuteTime": {
     "end_time": "2020-12-10T16:18:28.281511Z",
     "start_time": "2020-12-10T16:18:28.274519Z"
    }
   },
   "outputs": [
    {
     "data": {
      "text/plain": [
       "array(['gun', 'unarmed', 'toy weapon', 'nail gun', 'knife', 'unknown',\n",
       "       'shovel', 'hammer', 'hatchet', 'sword', 'machete', 'box cutter',\n",
       "       'metal object', 'screwdriver', 'lawn mower blade', 'flagpole',\n",
       "       'guns and explosives', 'cordless drill', 'metal pole', 'Taser',\n",
       "       'metal pipe', 'metal hand tool', 'blunt object', 'metal stick',\n",
       "       'sharp object', 'meat cleaver', 'carjack', 'chain',\n",
       "       \"contractor's level\", 'stapler', 'crossbow', 'bean-bag gun',\n",
       "       'baseball bat and fireplace poker', 'straight edge razor',\n",
       "       'gun and knife', 'ax', 'brick', 'baseball bat', 'hand torch',\n",
       "       'chain saw', 'garden tool', 'scissors', 'pole', 'pick-axe',\n",
       "       'flashlight', 'vehicle', 'spear', 'chair', 'pitchfork',\n",
       "       'hatchet and gun', 'rock', 'piece of wood', 'bayonet', 'pipe',\n",
       "       'glass shard', 'motorcycle', 'pepper spray', 'metal rake', 'baton',\n",
       "       'crowbar', 'oar', 'machete and gun', 'air conditioner',\n",
       "       'pole and knife', 'beer bottle', 'baseball bat and bottle',\n",
       "       'fireworks', 'pen', 'chainsaw', 'gun and sword', 'gun and car',\n",
       "       'pellet gun', 'BB gun', 'incendiary device', 'samurai sword',\n",
       "       'bow and arrow', 'gun and vehicle', 'vehicle and gun', 'wrench',\n",
       "       'walking stick', 'barstool', 'grenade', 'BB gun and vehicle',\n",
       "       'wasp spray', 'air pistol', 'baseball bat and knife',\n",
       "       'vehicle and machete', 'ice pick', 'car, knife and mace'],\n",
       "      dtype=object)"
      ]
     },
     "execution_count": 161,
     "metadata": {},
     "output_type": "execute_result"
    }
   ],
   "source": [
    "df['armed'].unique()"
   ]
  },
  {
   "cell_type": "code",
   "execution_count": 162,
   "metadata": {
    "ExecuteTime": {
     "end_time": "2020-12-10T16:18:28.433241Z",
     "start_time": "2020-12-10T16:18:28.426237Z"
    }
   },
   "outputs": [
    {
     "data": {
      "text/plain": [
       "array(['M', 'F'], dtype=object)"
      ]
     },
     "execution_count": 162,
     "metadata": {},
     "output_type": "execute_result"
    }
   ],
   "source": [
    "df['gender'].unique()"
   ]
  },
  {
   "cell_type": "code",
   "execution_count": 163,
   "metadata": {
    "ExecuteTime": {
     "end_time": "2020-12-10T16:18:30.214250Z",
     "start_time": "2020-12-10T16:18:30.198567Z"
    }
   },
   "outputs": [],
   "source": [
    "race_dict = {'Asian': 0, 'Black': 1, 'Hispanic': 2, 'Native': 3, 'White': 4, 'Other': 5}\n",
    "state_dict = {'WA': 0, 'OR': 1, 'KS': 2, 'CA': 3, 'CO': 4, 'OK': 5, 'AZ': 6, 'IA': 7, 'PA': 8, 'TX': 9, 'OH': 10,\n",
    "       'LA': 11, 'MT': 12, 'UT': 13, 'AR': 14, 'IL': 15, 'NV': 16, 'NM': 17, 'MN': 18, 'MO': 19, 'VA': 20, 'NJ': 21,\n",
    "       'IN': 22, 'KY': 23, 'MA': 24, 'NH': 25, 'FL': 26, 'ID': 27, 'MD': 28, 'NE': 29, 'MI': 30, 'GA': 31, 'TN': 32,\n",
    "       'NC': 33, 'AK': 34, 'NY': 35, 'ME': 36, 'AL': 37, 'MS': 38, 'WI': 39, 'SC': 40, 'DE': 41, 'DC': 42, 'WV': 43,\n",
    "       'HI': 44, 'WY': 45, 'ND': 46, 'CT': 47, 'SD': 48, 'VT': 49, 'RI': 50}\n",
    "gender_dict = {'F': 0, 'M': 1}\n",
    "flee_dict = {'Not fleeing': 0, 'Car': 1, 'Foot': 1, 'Other': 1}\n",
    "threat_dict = {'attack': 1, 'other': 0, 'undetermined': 0}\n",
    "\n",
    "df['race'] = df['race'].map(race_dict)\n",
    "df['gender'] = df['gender'].map(gender_dict)\n",
    "df['state'] = df['state'].map(state_dict)\n",
    "df['flee'] = df['flee'].map(flee_dict)\n",
    "df['threat_level'] = df['threat_level'].map(threat_dict)"
   ]
  },
  {
   "cell_type": "code",
   "execution_count": 164,
   "metadata": {
    "ExecuteTime": {
     "end_time": "2020-12-10T16:18:33.158442Z",
     "start_time": "2020-12-10T16:18:33.147313Z"
    }
   },
   "outputs": [
    {
     "data": {
      "text/html": [
       "<div>\n",
       "<style scoped>\n",
       "    .dataframe tbody tr th:only-of-type {\n",
       "        vertical-align: middle;\n",
       "    }\n",
       "\n",
       "    .dataframe tbody tr th {\n",
       "        vertical-align: top;\n",
       "    }\n",
       "\n",
       "    .dataframe thead th {\n",
       "        text-align: right;\n",
       "    }\n",
       "</style>\n",
       "<table border=\"1\" class=\"dataframe\">\n",
       "  <thead>\n",
       "    <tr style=\"text-align: right;\">\n",
       "      <th></th>\n",
       "      <th>armed</th>\n",
       "      <th>age</th>\n",
       "      <th>gender</th>\n",
       "      <th>race</th>\n",
       "      <th>state</th>\n",
       "      <th>signs_of_mental_illness</th>\n",
       "      <th>threat_level</th>\n",
       "      <th>flee</th>\n",
       "      <th>body_camera</th>\n",
       "    </tr>\n",
       "  </thead>\n",
       "  <tbody>\n",
       "    <tr>\n",
       "      <th>0</th>\n",
       "      <td>gun</td>\n",
       "      <td>53.0</td>\n",
       "      <td>1</td>\n",
       "      <td>0</td>\n",
       "      <td>0</td>\n",
       "      <td>True</td>\n",
       "      <td>1</td>\n",
       "      <td>0</td>\n",
       "      <td>False</td>\n",
       "    </tr>\n",
       "    <tr>\n",
       "      <th>1</th>\n",
       "      <td>gun</td>\n",
       "      <td>47.0</td>\n",
       "      <td>1</td>\n",
       "      <td>4</td>\n",
       "      <td>1</td>\n",
       "      <td>False</td>\n",
       "      <td>1</td>\n",
       "      <td>0</td>\n",
       "      <td>False</td>\n",
       "    </tr>\n",
       "    <tr>\n",
       "      <th>2</th>\n",
       "      <td>unarmed</td>\n",
       "      <td>23.0</td>\n",
       "      <td>1</td>\n",
       "      <td>2</td>\n",
       "      <td>2</td>\n",
       "      <td>False</td>\n",
       "      <td>0</td>\n",
       "      <td>0</td>\n",
       "      <td>False</td>\n",
       "    </tr>\n",
       "    <tr>\n",
       "      <th>3</th>\n",
       "      <td>toy weapon</td>\n",
       "      <td>32.0</td>\n",
       "      <td>1</td>\n",
       "      <td>4</td>\n",
       "      <td>3</td>\n",
       "      <td>True</td>\n",
       "      <td>1</td>\n",
       "      <td>0</td>\n",
       "      <td>False</td>\n",
       "    </tr>\n",
       "    <tr>\n",
       "      <th>4</th>\n",
       "      <td>nail gun</td>\n",
       "      <td>39.0</td>\n",
       "      <td>1</td>\n",
       "      <td>2</td>\n",
       "      <td>4</td>\n",
       "      <td>False</td>\n",
       "      <td>1</td>\n",
       "      <td>0</td>\n",
       "      <td>False</td>\n",
       "    </tr>\n",
       "  </tbody>\n",
       "</table>\n",
       "</div>"
      ],
      "text/plain": [
       "        armed   age  gender  race  state  signs_of_mental_illness  \\\n",
       "0         gun  53.0       1     0      0                     True   \n",
       "1         gun  47.0       1     4      1                    False   \n",
       "2     unarmed  23.0       1     2      2                    False   \n",
       "3  toy weapon  32.0       1     4      3                     True   \n",
       "4    nail gun  39.0       1     2      4                    False   \n",
       "\n",
       "   threat_level  flee  body_camera  \n",
       "0             1     0        False  \n",
       "1             1     0        False  \n",
       "2             0     0        False  \n",
       "3             1     0        False  \n",
       "4             1     0        False  "
      ]
     },
     "execution_count": 164,
     "metadata": {},
     "output_type": "execute_result"
    }
   ],
   "source": [
    "df.head()"
   ]
  },
  {
   "cell_type": "code",
   "execution_count": 165,
   "metadata": {
    "ExecuteTime": {
     "end_time": "2020-12-10T16:20:12.600065Z",
     "start_time": "2020-12-10T16:20:09.916816Z"
    }
   },
   "outputs": [],
   "source": [
    "for i in df['armed']:\n",
    "    if (i == 'unarmed'):\n",
    "        df['armed'].update(pd.Series([0]))\n",
    "    else:\n",
    "        df['armed'].update(pd.Series([1]))\n",
    "\n",
    "    "
   ]
  },
  {
   "cell_type": "code",
   "execution_count": 166,
   "metadata": {
    "ExecuteTime": {
     "end_time": "2020-12-10T16:20:12.621806Z",
     "start_time": "2020-12-10T16:20:12.600065Z"
    }
   },
   "outputs": [
    {
     "data": {
      "text/html": [
       "<div>\n",
       "<style scoped>\n",
       "    .dataframe tbody tr th:only-of-type {\n",
       "        vertical-align: middle;\n",
       "    }\n",
       "\n",
       "    .dataframe tbody tr th {\n",
       "        vertical-align: top;\n",
       "    }\n",
       "\n",
       "    .dataframe thead th {\n",
       "        text-align: right;\n",
       "    }\n",
       "</style>\n",
       "<table border=\"1\" class=\"dataframe\">\n",
       "  <thead>\n",
       "    <tr style=\"text-align: right;\">\n",
       "      <th></th>\n",
       "      <th>armed</th>\n",
       "      <th>age</th>\n",
       "      <th>gender</th>\n",
       "      <th>race</th>\n",
       "      <th>state</th>\n",
       "      <th>signs_of_mental_illness</th>\n",
       "      <th>threat_level</th>\n",
       "      <th>flee</th>\n",
       "      <th>body_camera</th>\n",
       "    </tr>\n",
       "  </thead>\n",
       "  <tbody>\n",
       "    <tr>\n",
       "      <th>0</th>\n",
       "      <td>1</td>\n",
       "      <td>53.0</td>\n",
       "      <td>1</td>\n",
       "      <td>0</td>\n",
       "      <td>0</td>\n",
       "      <td>True</td>\n",
       "      <td>1</td>\n",
       "      <td>0</td>\n",
       "      <td>False</td>\n",
       "    </tr>\n",
       "    <tr>\n",
       "      <th>1</th>\n",
       "      <td>gun</td>\n",
       "      <td>47.0</td>\n",
       "      <td>1</td>\n",
       "      <td>4</td>\n",
       "      <td>1</td>\n",
       "      <td>False</td>\n",
       "      <td>1</td>\n",
       "      <td>0</td>\n",
       "      <td>False</td>\n",
       "    </tr>\n",
       "    <tr>\n",
       "      <th>2</th>\n",
       "      <td>unarmed</td>\n",
       "      <td>23.0</td>\n",
       "      <td>1</td>\n",
       "      <td>2</td>\n",
       "      <td>2</td>\n",
       "      <td>False</td>\n",
       "      <td>0</td>\n",
       "      <td>0</td>\n",
       "      <td>False</td>\n",
       "    </tr>\n",
       "    <tr>\n",
       "      <th>3</th>\n",
       "      <td>toy weapon</td>\n",
       "      <td>32.0</td>\n",
       "      <td>1</td>\n",
       "      <td>4</td>\n",
       "      <td>3</td>\n",
       "      <td>True</td>\n",
       "      <td>1</td>\n",
       "      <td>0</td>\n",
       "      <td>False</td>\n",
       "    </tr>\n",
       "    <tr>\n",
       "      <th>4</th>\n",
       "      <td>nail gun</td>\n",
       "      <td>39.0</td>\n",
       "      <td>1</td>\n",
       "      <td>2</td>\n",
       "      <td>4</td>\n",
       "      <td>False</td>\n",
       "      <td>1</td>\n",
       "      <td>0</td>\n",
       "      <td>False</td>\n",
       "    </tr>\n",
       "    <tr>\n",
       "      <th>...</th>\n",
       "      <td>...</td>\n",
       "      <td>...</td>\n",
       "      <td>...</td>\n",
       "      <td>...</td>\n",
       "      <td>...</td>\n",
       "      <td>...</td>\n",
       "      <td>...</td>\n",
       "      <td>...</td>\n",
       "      <td>...</td>\n",
       "    </tr>\n",
       "    <tr>\n",
       "      <th>4890</th>\n",
       "      <td>Taser</td>\n",
       "      <td>27.0</td>\n",
       "      <td>1</td>\n",
       "      <td>1</td>\n",
       "      <td>31</td>\n",
       "      <td>False</td>\n",
       "      <td>1</td>\n",
       "      <td>1</td>\n",
       "      <td>True</td>\n",
       "    </tr>\n",
       "    <tr>\n",
       "      <th>4891</th>\n",
       "      <td>gun</td>\n",
       "      <td>23.0</td>\n",
       "      <td>1</td>\n",
       "      <td>1</td>\n",
       "      <td>22</td>\n",
       "      <td>False</td>\n",
       "      <td>1</td>\n",
       "      <td>1</td>\n",
       "      <td>False</td>\n",
       "    </tr>\n",
       "    <tr>\n",
       "      <th>4892</th>\n",
       "      <td>unarmed</td>\n",
       "      <td>25.0</td>\n",
       "      <td>0</td>\n",
       "      <td>4</td>\n",
       "      <td>19</td>\n",
       "      <td>False</td>\n",
       "      <td>0</td>\n",
       "      <td>0</td>\n",
       "      <td>False</td>\n",
       "    </tr>\n",
       "    <tr>\n",
       "      <th>4893</th>\n",
       "      <td>gun</td>\n",
       "      <td>22.0</td>\n",
       "      <td>1</td>\n",
       "      <td>4</td>\n",
       "      <td>19</td>\n",
       "      <td>False</td>\n",
       "      <td>0</td>\n",
       "      <td>1</td>\n",
       "      <td>False</td>\n",
       "    </tr>\n",
       "    <tr>\n",
       "      <th>4894</th>\n",
       "      <td>gun</td>\n",
       "      <td>31.0</td>\n",
       "      <td>1</td>\n",
       "      <td>4</td>\n",
       "      <td>2</td>\n",
       "      <td>False</td>\n",
       "      <td>1</td>\n",
       "      <td>1</td>\n",
       "      <td>False</td>\n",
       "    </tr>\n",
       "  </tbody>\n",
       "</table>\n",
       "<p>4895 rows × 9 columns</p>\n",
       "</div>"
      ],
      "text/plain": [
       "           armed   age  gender  race  state  signs_of_mental_illness  \\\n",
       "0              1  53.0       1     0      0                     True   \n",
       "1            gun  47.0       1     4      1                    False   \n",
       "2        unarmed  23.0       1     2      2                    False   \n",
       "3     toy weapon  32.0       1     4      3                     True   \n",
       "4       nail gun  39.0       1     2      4                    False   \n",
       "...          ...   ...     ...   ...    ...                      ...   \n",
       "4890       Taser  27.0       1     1     31                    False   \n",
       "4891         gun  23.0       1     1     22                    False   \n",
       "4892     unarmed  25.0       0     4     19                    False   \n",
       "4893         gun  22.0       1     4     19                    False   \n",
       "4894         gun  31.0       1     4      2                    False   \n",
       "\n",
       "      threat_level  flee  body_camera  \n",
       "0                1     0        False  \n",
       "1                1     0        False  \n",
       "2                0     0        False  \n",
       "3                1     0        False  \n",
       "4                1     0        False  \n",
       "...            ...   ...          ...  \n",
       "4890             1     1         True  \n",
       "4891             1     1        False  \n",
       "4892             0     0        False  \n",
       "4893             0     1        False  \n",
       "4894             1     1        False  \n",
       "\n",
       "[4895 rows x 9 columns]"
      ]
     },
     "execution_count": 166,
     "metadata": {},
     "output_type": "execute_result"
    }
   ],
   "source": [
    "df"
   ]
  },
  {
   "cell_type": "code",
   "execution_count": null,
   "metadata": {},
   "outputs": [],
   "source": []
  }
 ],
 "metadata": {
  "kernelspec": {
   "display_name": "Python 3",
   "language": "python",
   "name": "python3"
  },
  "language_info": {
   "codemirror_mode": {
    "name": "ipython",
    "version": 3
   },
   "file_extension": ".py",
   "mimetype": "text/x-python",
   "name": "python",
   "nbconvert_exporter": "python",
   "pygments_lexer": "ipython3",
   "version": "3.8.5"
  },
  "toc": {
   "base_numbering": 1,
   "nav_menu": {},
   "number_sections": true,
   "sideBar": true,
   "skip_h1_title": false,
   "title_cell": "Table of Contents",
   "title_sidebar": "Contents",
   "toc_cell": false,
   "toc_position": {},
   "toc_section_display": true,
   "toc_window_display": false
  }
 },
 "nbformat": 4,
 "nbformat_minor": 4
}
