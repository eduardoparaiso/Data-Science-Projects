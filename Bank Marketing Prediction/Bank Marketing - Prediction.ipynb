{
 "cells": [
  {
   "cell_type": "code",
   "execution_count": 1,
   "metadata": {
    "ExecuteTime": {
     "end_time": "2020-12-11T16:16:47.328246Z",
     "start_time": "2020-12-11T16:16:46.922196Z"
    }
   },
   "outputs": [],
   "source": [
    "import pandas as pd\n",
    "df = pd.read_csv('inputs/bank-full.csv', delimiter = ';')"
   ]
  },
  {
   "cell_type": "code",
   "execution_count": 2,
   "metadata": {
    "ExecuteTime": {
     "end_time": "2020-12-11T16:16:47.337638Z",
     "start_time": "2020-12-11T16:16:47.328246Z"
    }
   },
   "outputs": [],
   "source": [
    "df = df[['age', 'pdays', 'campaign', 'y']]"
   ]
  },
  {
   "cell_type": "code",
   "execution_count": 3,
   "metadata": {
    "ExecuteTime": {
     "end_time": "2020-12-11T16:16:47.353201Z",
     "start_time": "2020-12-11T16:16:47.343188Z"
    }
   },
   "outputs": [],
   "source": [
    "y = df['y']\n",
    "x = df.drop('y', axis = 1)"
   ]
  },
  {
   "cell_type": "code",
   "execution_count": 4,
   "metadata": {
    "ExecuteTime": {
     "end_time": "2020-12-11T16:16:48.057528Z",
     "start_time": "2020-12-11T16:16:47.354176Z"
    }
   },
   "outputs": [],
   "source": [
    "from sklearn.model_selection import train_test_split\n",
    "xTrain, xTest, yTrain, yTest = train_test_split(x, y, test_size = 0.3)"
   ]
  },
  {
   "cell_type": "code",
   "execution_count": 5,
   "metadata": {
    "ExecuteTime": {
     "end_time": "2020-12-11T16:16:48.164295Z",
     "start_time": "2020-12-11T16:16:48.057528Z"
    }
   },
   "outputs": [
    {
     "data": {
      "text/plain": [
       "DecisionTreeClassifier(criterion='entropy', max_depth=4)"
      ]
     },
     "execution_count": 5,
     "metadata": {},
     "output_type": "execute_result"
    }
   ],
   "source": [
    "from sklearn.tree import DecisionTreeClassifier\n",
    "\n",
    "tree = DecisionTreeClassifier(max_depth = 4, criterion = 'entropy')\n",
    "tree.fit(xTrain, yTrain)"
   ]
  },
  {
   "cell_type": "code",
   "execution_count": 6,
   "metadata": {
    "ExecuteTime": {
     "end_time": "2020-12-11T16:16:48.176268Z",
     "start_time": "2020-12-11T16:16:48.166257Z"
    }
   },
   "outputs": [],
   "source": [
    "predicts_train = tree.predict(xTrain)\n",
    "predicts_test = tree.predict(xTest)"
   ]
  },
  {
   "cell_type": "code",
   "execution_count": 7,
   "metadata": {
    "ExecuteTime": {
     "end_time": "2020-12-11T16:16:48.183277Z",
     "start_time": "2020-12-11T16:16:48.178259Z"
    }
   },
   "outputs": [],
   "source": [
    "from sklearn.metrics import classification_report, mean_absolute_error, mean_squared_error"
   ]
  },
  {
   "cell_type": "code",
   "execution_count": 8,
   "metadata": {
    "ExecuteTime": {
     "end_time": "2020-12-11T16:16:49.049118Z",
     "start_time": "2020-12-11T16:16:48.185258Z"
    }
   },
   "outputs": [
    {
     "name": "stdout",
     "output_type": "stream",
     "text": [
      "              precision    recall  f1-score   support\n",
      "\n",
      "          no       0.89      0.99      0.94     27942\n",
      "         yes       0.55      0.12      0.19      3705\n",
      "\n",
      "    accuracy                           0.89     31647\n",
      "   macro avg       0.72      0.55      0.57     31647\n",
      "weighted avg       0.85      0.89      0.85     31647\n",
      "\n"
     ]
    }
   ],
   "source": [
    "print(classification_report(yTrain, predicts_train))"
   ]
  },
  {
   "cell_type": "code",
   "execution_count": 9,
   "metadata": {
    "ExecuteTime": {
     "end_time": "2020-12-11T16:16:49.414252Z",
     "start_time": "2020-12-11T16:16:49.051118Z"
    }
   },
   "outputs": [
    {
     "name": "stdout",
     "output_type": "stream",
     "text": [
      "              precision    recall  f1-score   support\n",
      "\n",
      "          no       0.89      0.99      0.94     11980\n",
      "         yes       0.51      0.11      0.18      1584\n",
      "\n",
      "    accuracy                           0.88     13564\n",
      "   macro avg       0.70      0.55      0.56     13564\n",
      "weighted avg       0.85      0.88      0.85     13564\n",
      "\n"
     ]
    }
   ],
   "source": [
    "print(classification_report(yTest, predicts_test))"
   ]
  },
  {
   "cell_type": "code",
   "execution_count": 10,
   "metadata": {
    "ExecuteTime": {
     "end_time": "2020-12-11T16:16:49.419609Z",
     "start_time": "2020-12-11T16:16:49.416252Z"
    }
   },
   "outputs": [],
   "source": [
    "# #!pip install graphviz\n",
    "# from IPython.display import SVG\n",
    "# from graphviz import Source\n",
    "# from sklearn.tree import export_graphviz\n",
    "\n",
    "# graph = Source(export_graphviz(tree, out_file= None, feature_names = x.columns, filled = True))\n",
    "# display(SVG(graph.pipe(format = 'svg')))"
   ]
  }
 ],
 "metadata": {
  "kernelspec": {
   "display_name": "Python 3",
   "language": "python",
   "name": "python3"
  },
  "language_info": {
   "codemirror_mode": {
    "name": "ipython",
    "version": 3
   },
   "file_extension": ".py",
   "mimetype": "text/x-python",
   "name": "python",
   "nbconvert_exporter": "python",
   "pygments_lexer": "ipython3",
   "version": "3.8.5"
  },
  "toc": {
   "base_numbering": 1,
   "nav_menu": {},
   "number_sections": true,
   "sideBar": true,
   "skip_h1_title": false,
   "title_cell": "Table of Contents",
   "title_sidebar": "Contents",
   "toc_cell": false,
   "toc_position": {},
   "toc_section_display": true,
   "toc_window_display": false
  }
 },
 "nbformat": 4,
 "nbformat_minor": 4
}
